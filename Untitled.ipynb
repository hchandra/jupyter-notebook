{
 "cells": [
  {
   "cell_type": "code",
   "execution_count": 3,
   "metadata": {},
   "outputs": [
    {
     "name": "stdout",
     "output_type": "stream",
     "text": [
      "BOOT_IMAGE=/vmlinuz-3.10.0-957.5.1.el7.x86_64 root=/dev/mapper/centos-root ro ipv6.disable=1 crashkernel=auto rd.lvm.lv=centos/root rd.lvm.lv=centos/swap rhgb quiet LANG=en_US.UTF-8\n",
      "\n"
     ]
    }
   ],
   "source": [
    "with open('/proc/cmdline', 'r') as f:\n",
    "    print(f.readline())\n",
    "    "
   ]
  },
  {
   "cell_type": "code",
   "execution_count": 5,
   "metadata": {},
   "outputs": [
    {
     "name": "stdout",
     "output_type": "stream",
     "text": [
      "MemTotal:        1848380 kB\n",
      "MemFree:          493392 kB\n",
      "MemAvailable:     664868 kB\n",
      "Buffers:               0 kB\n",
      "Cached:           265612 kB\n",
      "SwapCached:         1860 kB\n",
      "Active:           554900 kB\n",
      "Inactive:         454292 kB\n",
      "Active(anon):     468664 kB\n",
      "Inactive(anon):   288860 kB\n",
      "Active(file):      86236 kB\n",
      "Inactive(file):   165432 kB\n",
      "Unevictable:           0 kB\n",
      "Mlocked:               0 kB\n",
      "SwapTotal:       2097148 kB\n",
      "SwapFree:        2076660 kB\n",
      "Dirty:                16 kB\n",
      "Writeback:             0 kB\n",
      "AnonPages:        741944 kB\n",
      "Mapped:            34828 kB\n",
      "Shmem:             13944 kB\n",
      "Slab:             143624 kB\n",
      "SReclaimable:     101676 kB\n",
      "SUnreclaim:        41948 kB\n",
      "KernelStack:        6544 kB\n",
      "PageTables:        21460 kB\n",
      "NFS_Unstable:          0 kB\n",
      "Bounce:                0 kB\n",
      "WritebackTmp:          0 kB\n",
      "CommitLimit:     3021336 kB\n",
      "Committed_AS:    2203020 kB\n",
      "VmallocTotal:   34359738367 kB\n",
      "VmallocUsed:      178656 kB\n",
      "VmallocChunk:   34359326716 kB\n",
      "HardwareCorrupted:     0 kB\n",
      "AnonHugePages:    335872 kB\n",
      "CmaTotal:              0 kB\n",
      "CmaFree:               0 kB\n",
      "HugePages_Total:       0\n",
      "HugePages_Free:        0\n",
      "HugePages_Rsvd:        0\n",
      "HugePages_Surp:        0\n",
      "Hugepagesize:       2048 kB\n",
      "DirectMap4k:       59264 kB\n",
      "DirectMap2M:     2013184 kB\n",
      "\n"
     ]
    }
   ],
   "source": [
    "with open('/proc/meminfo', 'r') as f:\n",
    "    print(f.read())"
   ]
  },
  {
   "cell_type": "code",
   "execution_count": null,
   "metadata": {},
   "outputs": [],
   "source": []
  }
 ],
 "metadata": {
  "kernelspec": {
   "display_name": "Python 2",
   "language": "python",
   "name": "python2"
  },
  "language_info": {
   "codemirror_mode": {
    "name": "ipython",
    "version": 2
   },
   "file_extension": ".py",
   "mimetype": "text/x-python",
   "name": "python",
   "nbconvert_exporter": "python",
   "pygments_lexer": "ipython2",
   "version": "2.7.15"
  }
 },
 "nbformat": 4,
 "nbformat_minor": 2
}
