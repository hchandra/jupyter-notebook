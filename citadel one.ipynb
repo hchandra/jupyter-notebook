{
 "cells": [
  {
   "cell_type": "code",
   "execution_count": 3,
   "metadata": {},
   "outputs": [
    {
     "name": "stdout",
     "output_type": "stream",
     "text": [
      "BUY:  99.5 , time: 1559990007\n",
      "SALE: 103.5, time: 1559990007\n"
     ]
    }
   ],
   "source": [
    "'''\n",
    "/*\n",
    "Given a list of .csv strings containing an integer timestamp, stock name, and stock\n",
    "price on the previous trading day, examine the list and provide the optimal time to\n",
    "have bought and sold exactly one share of a specified stock, along with the profit.\n",
    " - Can only buy a single share, one time (or zero times if there is no profit)\n",
    " - Can only sell a single share, one time (or zero times if there is no profit)\n",
    " - Must buy before selling\n",
    " - Find maximum profit and report the stock, buy time, sell time, and profit\n",
    " - each line has 3 fields, separated by a comma:\n",
    "      <integer timestamp>,<stock name>,<price>\n",
    "\n",
    "Example output for the sample data below for \"GOOG\" might be:\n",
    "    GOOG: buytime=1559990007, selltime=1559990010, profit=4.0\n",
    "*/\n",
    "\n",
    "\n",
    "'''\n",
    "price_lines = [\n",
    "    \"1559990001,GOOG,104.25\",\n",
    "    \"1559990001,FB,100.00\",\n",
    "    \"1559990002,AAPL,100.00\",\n",
    "    \"1559990003,GOOG,105.00\",\n",
    "    \"1559990004,FB,99.00\",\n",
    "    \"1559990007,GOOG,99.50\",\n",
    "    \"1559990008,GOOG,102.75\",\n",
    "    \"1559990010,AAPL,101.00\",\n",
    "    \"1559990010,GOOG,103.50\",\n",
    "    \"1559990011,GOOG,99.00\",\n",
    "    \"1559990013,AAPL,102.00\",\n",
    "    \"1559990013,GOOG,102.50\",\n",
    "    \"1559990014,GOOG,102.50\",\n",
    "    \"1559990014,FB,97.00\",\n",
    "    \"1559990017,GOOG,102.75\",\n",
    "    \"1559990018,GOOG,102.00\",\n",
    "    \"1559990019,FB,95.00\",\n",
    "]\n",
    "\n",
    "def find_max_profit(temp_dict):\n",
    "\n",
    "    for k,v in temp_dict.items():\n",
    "        min_price=900.00\n",
    "        min_time=1540000\n",
    "        \n",
    "        for p in v:\n",
    "            if p[1] < min_price:\n",
    "                min_price=p[1]\n",
    "                min_time=p[0]\n",
    "            else:\n",
    "                total_profit = p[1] - min_price \n",
    "                if total_profit == 4:\n",
    "                    print('BUY:  %s, time: %s' %(min_price, min_time))\n",
    "                    print('SALE: %s, time: %s' %(p[1], min_time))\n",
    "                    break\n",
    "    \n",
    "def create_dict(price_lines):\n",
    "    my_dict={}\n",
    "    for line in price_lines:\n",
    "        (t, symbol, price) = line.split(',')\n",
    "        \n",
    "        # price in float\n",
    "        price=float(price)\n",
    "        \n",
    "        if symbol in my_dict:\n",
    "            my_dict[symbol].append((t, price),)\n",
    "        else:\n",
    "            my_dict[symbol]=[(t,price)]\n",
    "    return my_dict\n",
    "            \n",
    "temp_dict=create_dict(price_lines)        \n",
    "find_max_profit(temp_dict)\n",
    " "
   ]
  }
 ],
 "metadata": {
  "kernelspec": {
   "display_name": "Python 3",
   "language": "python",
   "name": "python3"
  },
  "language_info": {
   "codemirror_mode": {
    "name": "ipython",
    "version": 2
   },
   "file_extension": ".py",
   "mimetype": "text/x-python",
   "name": "python",
   "nbconvert_exporter": "python",
   "pygments_lexer": "ipython2",
   "version": "2.7.15"
  }
 },
 "nbformat": 4,
 "nbformat_minor": 2
}
