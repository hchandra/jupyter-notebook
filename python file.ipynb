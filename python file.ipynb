{
 "cells": [
  {
   "cell_type": "code",
   "execution_count": 9,
   "metadata": {},
   "outputs": [
    {
     "name": "stdout",
     "output_type": "stream",
     "text": [
      "{'roles': [{'role': 'firewall'}], 'vars': {'firewalld_state': 'latest', 'firewalld_debug': False, 'firewalld_default_zone': 'home', 'firewalld_service': ['ssh']}}\n"
     ]
    }
   ],
   "source": [
    "import sys\n",
    "import yaml\n",
    "\n",
    "data={}\n",
    "file_name='test.yaml'\n",
    "file_mode='r'\n",
    "try:\n",
    "    with open(file_name, file_mode) as f:\n",
    "        data = yaml.safe_load(f)\n",
    "except:\n",
    "    print('Exception: %s, %s' % (sys.exc_info()[0], sys.exc_info()[1]))\n",
    "\n",
    "print(data)"
   ]
  },
  {
   "cell_type": "code",
   "execution_count": 25,
   "metadata": {},
   "outputs": [],
   "source": [
    "with open('somefile.txt', 'a') as f:    \n",
    "    f.write('Hello World!\\n') "
   ]
  },
  {
   "cell_type": "code",
   "execution_count": 35,
   "metadata": {},
   "outputs": [
    {
     "name": "stdout",
     "output_type": "stream",
     "text": [
      "This\n"
     ]
    }
   ],
   "source": [
    "with open('somefile.txt', 'r') as f:\n",
    "    print f.readline(4)"
   ]
  },
  {
   "cell_type": "code",
   "execution_count": 37,
   "metadata": {},
   "outputs": [
    {
     "ename": "SyntaxError",
     "evalue": "invalid syntax (<ipython-input-37-bd3e3a788926>, line 1)",
     "output_type": "error",
     "traceback": [
      "\u001b[0;36m  File \u001b[0;32m\"<ipython-input-37-bd3e3a788926>\"\u001b[0;36m, line \u001b[0;32m1\u001b[0m\n\u001b[0;31m    lines_of_text = [“One line of text here”, “and another line here”, “and yet another here”, “and so on and so forth”]\u001b[0m\n\u001b[0m                     ^\u001b[0m\n\u001b[0;31mSyntaxError\u001b[0m\u001b[0;31m:\u001b[0m invalid syntax\n"
     ]
    }
   ],
   "source": [
    "lines_of_text = [“One line of text here”, “and another line here”, “and yet another here”, “and so on and so forth”] \n",
    "with open('somefile1.txt', 'w') as f:\n",
    "    f.write(lines_of_text)"
   ]
  },
  {
   "cell_type": "code",
   "execution_count": 2,
   "metadata": {},
   "outputs": [
    {
     "data": {
      "text/plain": [
       "'skeeg ziuq ecitcarp edoc'"
      ]
     },
     "execution_count": 2,
     "metadata": {},
     "output_type": "execute_result"
    }
   ],
   "source": [
    "str = \"code practice quiz geeks\"\n",
    "str[-1::-1]\n"
   ]
  }
 ],
 "metadata": {
  "kernelspec": {
   "display_name": "Python 2",
   "language": "python",
   "name": "python2"
  },
  "language_info": {
   "codemirror_mode": {
    "name": "ipython",
    "version": 2
   },
   "file_extension": ".py",
   "mimetype": "text/x-python",
   "name": "python",
   "nbconvert_exporter": "python",
   "pygments_lexer": "ipython2",
   "version": "2.7.15"
  }
 },
 "nbformat": 4,
 "nbformat_minor": 2
}
