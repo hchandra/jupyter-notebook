{
 "cells": [
  {
   "cell_type": "code",
   "execution_count": 1,
   "metadata": {},
   "outputs": [
    {
     "name": "stdout",
     "output_type": "stream",
     "text": [
      "Sleeping 4 second(s)...Sleeping 3 second(s)...Sleeping 5 second(s)...Sleeping 1 second(s)...Sleeping 2 second(s)...\n",
      "\n",
      "\n",
      "\n",
      "\n",
      "Done sleeping...5\n",
      "Done sleeping...4\n",
      "Done sleeping...3\n",
      "Done sleeping...2\n",
      "Done sleeping...1\n",
      "Finished in 5.05 seconds\n"
     ]
    }
   ],
   "source": [
    "import concurrent.futures \n",
    "import time\n",
    "\n",
    "start = time.perf_counter()\n",
    "\n",
    "def do_something(seconds):\n",
    "    print(f'Sleeping {seconds} second(s)...')\n",
    "    time.sleep(seconds)\n",
    "    return f'Done sleeping...{seconds}'\n",
    "\n",
    "    \n",
    "with concurrent.futures.ProcessPoolExecutor() as executor:\n",
    "    secs = [5,4,3,2,1]\n",
    "    results = executor.map(do_something, secs)\n",
    "    \n",
    "    for result in results:\n",
    "        print(result)\n",
    "\n",
    "    \n",
    "    \n",
    "#processes = []\n",
    "    \n",
    "#for _ in range(10):\n",
    "#    p=multiprocessing.Process(target=do_something, args=[1.5])\n",
    "#    p.start()\n",
    "#    processes.append(p)\n",
    "    \n",
    "#for process in processes:\n",
    "#    process.join()\n",
    "    \n",
    "finish = time.perf_counter()\n",
    "\n",
    "print(f'Finished in {round(finish-start, 2)} seconds')"
   ]
  }
 ],
 "metadata": {
  "kernelspec": {
   "display_name": "Python 3",
   "language": "python",
   "name": "python3"
  },
  "language_info": {
   "codemirror_mode": {
    "name": "ipython",
    "version": 3
   },
   "file_extension": ".py",
   "mimetype": "text/x-python",
   "name": "python",
   "nbconvert_exporter": "python",
   "pygments_lexer": "ipython3",
   "version": "3.7.7"
  }
 },
 "nbformat": 4,
 "nbformat_minor": 4
}
