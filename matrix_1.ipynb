{
 "cells": [
  {
   "cell_type": "code",
   "execution_count": 23,
   "metadata": {},
   "outputs": [
    {
     "name": "stdout",
     "output_type": "stream",
     "text": [
      "[[0, 1, 1, 1]]\n",
      "[0, 1, 1, 1]\n",
      "0\n",
      "1\n",
      "1\n",
      "1\n",
      "3\n"
     ]
    }
   ],
   "source": [
    "r=[]\n",
    "r.append([1,0,0,1])\n",
    "r.append([0,1,1,1])\n",
    "r.append([1,0,0,1])\n",
    "\n",
    "print(r[1:-1])\n",
    "connection_count=0\n",
    "\n",
    "for mid_row in r[1:-1]:\n",
    "    print(mid_row)\n",
    "    for i in mid_row:\n",
    "        print(i)\n",
    "        if (i==1):\n",
    "            connection_count+=1\n",
    "print(connection_count)"
   ]
  }
 ],
 "metadata": {
  "kernelspec": {
   "display_name": "Python 2",
   "language": "python",
   "name": "python2"
  },
  "language_info": {
   "codemirror_mode": {
    "name": "ipython",
    "version": 2
   },
   "file_extension": ".py",
   "mimetype": "text/x-python",
   "name": "python",
   "nbconvert_exporter": "python",
   "pygments_lexer": "ipython2",
   "version": "2.7.15"
  }
 },
 "nbformat": 4,
 "nbformat_minor": 2
}
