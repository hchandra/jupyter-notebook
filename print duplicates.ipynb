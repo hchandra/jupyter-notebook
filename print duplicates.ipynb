{
 "cells": [
  {
   "cell_type": "markdown",
   "metadata": {},
   "source": [
    "# Function to print duplicates "
   ]
  },
  {
   "cell_type": "markdown",
   "metadata": {},
   "source": [
    "Given an array of integers, 1 ≤ a[i] ≤ n (n = size of array), some elements appear twice and others appear once.\n",
    "\n",
    "Find all the elements that appear twice in this array.\n",
    "\n",
    "Could you do it without extra space and in O(n) runtime?"
   ]
  },
  {
   "cell_type": "code",
   "execution_count": 22,
   "metadata": {},
   "outputs": [],
   "source": [
    "class Solution(object):\n",
    "    def findDuplicates(self, nums):\n",
    "        \"\"\"\n",
    "        :type nums: List[int]\n",
    "        :rtype: List[int]\n",
    "        \"\"\"\n",
    "        res = []\n",
    "        for x in nums:\n",
    "\n",
    "            if nums[abs(x)-1] < 0:\n",
    "                res.append(abs(x))\n",
    "            else:\n",
    "                nums[abs(x)-1] *= -1\n",
    "        return res"
   ]
  },
  {
   "cell_type": "code",
   "execution_count": 25,
   "metadata": {},
   "outputs": [
    {
     "data": {
      "text/plain": [
       "[2, 3]"
      ]
     },
     "execution_count": 25,
     "metadata": {},
     "output_type": "execute_result"
    }
   ],
   "source": [
    "a=Solution()\n",
    "a.findDuplicates([4,3,2,7,8,2,3,1])"
   ]
  },
  {
   "cell_type": "code",
   "execution_count": 27,
   "metadata": {},
   "outputs": [
    {
     "name": "stdout",
     "output_type": "stream",
     "text": [
      "The repeating elements are: \n",
      "1 3 6\n"
     ]
    }
   ],
   "source": [
    "# duplicates in O(n) time \n",
    "\n",
    "def printRepeating(arr, size): \n",
    "      \n",
    "    print(\"The repeating elements are: \") \n",
    "      \n",
    "    for i in range(0, size): \n",
    "          \n",
    "        if arr[abs(arr[i])] >= 0: \n",
    "            arr[abs(arr[i])] = -arr[abs(arr[i])] \n",
    "        else: \n",
    "            print (abs(arr[i])), \n",
    "              \n",
    "# Driver code \n",
    "arr = [1, 2, 3, 1, 3, 6, 6] \n",
    "arr_size = len(arr) \n",
    "  \n",
    "printRepeating(arr, arr_size)"
   ]
  },
  {
   "cell_type": "code",
   "execution_count": 30,
   "metadata": {},
   "outputs": [
    {
     "name": "stdout",
     "output_type": "stream",
     "text": [
      "[1, 2, 999]\n"
     ]
    }
   ],
   "source": [
    "def printRepeating(arr):\n",
    "    \n",
    "    res=[]\n",
    "    first=[]\n",
    "    for i in arr:\n",
    "        if i not in first:\n",
    "            first.append(i)\n",
    "        else:\n",
    "            res.append(i)\n",
    "    \n",
    "    print(res)\n",
    "    \n",
    "printRepeating([1,2,3,999,6,1,2,999])"
   ]
  }
 ],
 "metadata": {
  "kernelspec": {
   "display_name": "Python 2",
   "language": "python",
   "name": "python2"
  },
  "language_info": {
   "codemirror_mode": {
    "name": "ipython",
    "version": 2
   },
   "file_extension": ".py",
   "mimetype": "text/x-python",
   "name": "python",
   "nbconvert_exporter": "python",
   "pygments_lexer": "ipython2",
   "version": "2.7.15"
  }
 },
 "nbformat": 4,
 "nbformat_minor": 2
}
