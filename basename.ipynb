{
 "cells": [
  {
   "cell_type": "markdown",
   "metadata": {},
   "source": [
    "# POSIX basename in python"
   ]
  },
  {
   "cell_type": "code",
   "execution_count": 10,
   "metadata": {},
   "outputs": [],
   "source": [
    "def basename(p):\n",
    "    if p == '/':\n",
    "        ret_val = p\n",
    "    else:\n",
    "        sp = p.split('/')\n",
    "        \n",
    "        i=-1\n",
    "        while (sp[i] == ''):\n",
    "            i = i-1\n",
    "            \n",
    "        ret_val = sp[i]\n",
    "    return ret_val"
   ]
  },
  {
   "cell_type": "code",
   "execution_count": 11,
   "metadata": {},
   "outputs": [
    {
     "name": "stdout",
     "output_type": "stream",
     "text": [
      "input: /                    - /\n",
      "input: /dir1/dir2/          - dir2\n",
      "input: /dir1/dir2/file1////// - file1\n",
      "input: /dir1/dir2/file1.txt - file1.txt\n"
     ]
    }
   ],
   "source": [
    "a = '/'\n",
    "b = '/dir1/dir2/'\n",
    "c = '/dir1/dir2/file1//////'\n",
    "d = '/dir1/dir2/file1.txt'\n",
    "\n",
    "print('input: %-20s - %s' % (a, basename(a)))\n",
    "print('input: %-20s - %s' % (b, basename(b)))\n",
    "print('input: %-20s - %s' % (c, basename(c)))\n",
    "print('input: %-20s - %s' % (d, basename(d)))\n"
   ]
  }
 ],
 "metadata": {
  "kernelspec": {
   "display_name": "Python 3",
   "language": "python",
   "name": "python3"
  },
  "language_info": {
   "codemirror_mode": {
    "name": "ipython",
    "version": 3
   },
   "file_extension": ".py",
   "mimetype": "text/x-python",
   "name": "python",
   "nbconvert_exporter": "python",
   "pygments_lexer": "ipython3",
   "version": "3.7.7"
  }
 },
 "nbformat": 4,
 "nbformat_minor": 4
}
