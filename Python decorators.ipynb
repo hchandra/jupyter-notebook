{
 "cells": [
  {
   "cell_type": "markdown",
   "metadata": {},
   "source": [
    "# How to write a decorator"
   ]
  },
  {
   "cell_type": "code",
   "execution_count": 3,
   "metadata": {},
   "outputs": [
    {
     "name": "stdout",
     "output_type": "stream",
     "text": [
      "Hello from new\n",
      "Hello from test original\n"
     ]
    }
   ],
   "source": [
    "def hello_decorator(original_fn):\n",
    "    def decorator_fn():\n",
    "        print(\"Hello from new\")\n",
    "        original_fn()   # original function must be invoked\n",
    "    return decorator_fn\n",
    "\n",
    "@hello_decorator\n",
    "def hello():\n",
    "    print(\"Hello from test original\")\n",
    " \n",
    "hello()"
   ]
  },
  {
   "cell_type": "markdown",
   "metadata": {},
   "source": [
    "# Function with arguments"
   ]
  },
  {
   "cell_type": "code",
   "execution_count": 2,
   "metadata": {},
   "outputs": [
    {
     "name": "stdout",
     "output_type": "stream",
     "text": [
      "Hello from new\n",
      "5\n"
     ]
    }
   ],
   "source": [
    "def add_decorator(original_fn):\n",
    "    def decorator_fn(*args, **kwargs):\n",
    "        print(\"Hello from new\")\n",
    "        original_fn(*args, **kwargs)\n",
    "    return decorator_fn\n",
    " \n",
    "@add_decorator\n",
    "def add(x, y):\n",
    "    print(x + y)\n",
    "\n",
    "add(2, 3)"
   ]
  },
  {
   "cell_type": "markdown",
   "metadata": {},
   "source": [
    "# Decorator with arguments"
   ]
  },
  {
   "cell_type": "code",
   "execution_count": 3,
   "metadata": {},
   "outputs": [
    {
     "name": "stdout",
     "output_type": "stream",
     "text": [
      "6\n"
     ]
    },
    {
     "data": {
      "text/plain": [
       "6"
      ]
     },
     "execution_count": 3,
     "metadata": {},
     "output_type": "execute_result"
    }
   ],
   "source": [
    "def add_decorator(n):\n",
    "    def decorator_fn(original_fn):\n",
    "        def wrapper_fn(*args, **kwargs):\n",
    "            result = original_fn(*args, **kwargs)\n",
    "            print(result+n)\n",
    "            return result + n\n",
    "        return wrapper_fn\n",
    "    return decorator_fn\n",
    " \n",
    "@add_decorator(2)\n",
    "def add(x, y):\n",
    "    return x + y\n",
    "\n",
    "add(2,2)"
   ]
  },
  {
   "cell_type": "markdown",
   "metadata": {},
   "source": [
    "The execution prints 6, adding the 2, given as an argument to the decorator. The above examples are for understanding purpose only, no way this will be a use-case for writing a decorator."
   ]
  },
  {
   "cell_type": "markdown",
   "metadata": {},
   "source": [
    "# 1. Exception handling example"
   ]
  },
  {
   "cell_type": "code",
   "execution_count": 4,
   "metadata": {},
   "outputs": [],
   "source": [
    "def exception_handler(original_fn):\n",
    "    def decorator_fn(*args, **kwargs):\n",
    "        try:\n",
    "            return original_fn(*args, **kwargs)\n",
    "        except Exception as err:\n",
    "            print(err)\n",
    "    return decorator_fn\n",
    " \n",
    "@exception_handler\n",
    "def add(x, y):\n",
    "    sum = x + y\n",
    "    print(sum)\n",
    "    return sum\n"
   ]
  },
  {
   "cell_type": "code",
   "execution_count": 5,
   "metadata": {},
   "outputs": [
    {
     "name": "stdout",
     "output_type": "stream",
     "text": [
      "4\n"
     ]
    },
    {
     "data": {
      "text/plain": [
       "4"
      ]
     },
     "execution_count": 5,
     "metadata": {},
     "output_type": "execute_result"
    }
   ],
   "source": [
    "add(2,2)"
   ]
  },
  {
   "cell_type": "code",
   "execution_count": 6,
   "metadata": {},
   "outputs": [
    {
     "name": "stdout",
     "output_type": "stream",
     "text": [
      "unsupported operand type(s) for +: 'int' and 'str'\n"
     ]
    }
   ],
   "source": [
    "add(2, 'a')"
   ]
  },
  {
   "cell_type": "markdown",
   "metadata": {},
   "source": [
    "It has printed the exception message in second case, this way you can a very generic exception handler to be used for all your functions. You can add more power by passing a logger to the decorator i.e. @exception_handler(logger), and use it inside the execpt block to log exception or even to whole traceback (recommended)."
   ]
  },
  {
   "cell_type": "markdown",
   "metadata": {},
   "source": [
    "# 2. Timer example"
   ]
  },
  {
   "cell_type": "code",
   "execution_count": 7,
   "metadata": {},
   "outputs": [],
   "source": [
    "import time\n",
    "\n",
    "def timeit(original_fn):\n",
    "    def decorator_fn(*args, **kwargs):\n",
    "        start = time.time()\n",
    "        original_fn(*args, **kwargs)\n",
    "        end = time.time()\n",
    "        print('func:%r args:[%r, %r] took: %2.6f sec' % (original_fn.__name__,\n",
    "                                                         args, kwargs, end - start))\n",
    " \n",
    "    return decorator_fn\n",
    " \n",
    "@timeit\n",
    "def add(x, y):\n",
    "    return x + y\n",
    "\n",
    "@timeit\n",
    "def multiply(x, y):\n",
    "    return x + y\n"
   ]
  },
  {
   "cell_type": "code",
   "execution_count": 8,
   "metadata": {},
   "outputs": [
    {
     "name": "stdout",
     "output_type": "stream",
     "text": [
      "func:'add' args:[(2, 2), {}] took: 0.000002 sec\n"
     ]
    }
   ],
   "source": [
    "add(2, 2)"
   ]
  },
  {
   "cell_type": "code",
   "execution_count": 9,
   "metadata": {},
   "outputs": [
    {
     "name": "stdout",
     "output_type": "stream",
     "text": [
      "func:'multiply' args:[(2, 2), {}] took: 0.000001 sec\n"
     ]
    }
   ],
   "source": [
    "multiply(2, 2)"
   ]
  },
  {
   "cell_type": "markdown",
   "metadata": {},
   "source": [
    "# Multiple decorators"
   ]
  },
  {
   "cell_type": "markdown",
   "metadata": {},
   "source": [
    "You can decorate a function with multiple decorators i.e. can stack more than one decorator over a function definition. The top one will be executed last in the stack."
   ]
  },
  {
   "cell_type": "code",
   "execution_count": 10,
   "metadata": {},
   "outputs": [],
   "source": [
    "def add_decorator_one(original_fn):\n",
    "    def decorator_fn(*args, **kwargs):\n",
    "        original_fn(*args, **kwargs)\n",
    "        print(\"Hello from one\")\n",
    "    return decorator_fn\n",
    " \n",
    "def add_decorator_two(original_fn):\n",
    "    def decorator_fn(*args, **kwargs):\n",
    "        original_fn(*args, **kwargs)\n",
    "        print(\"Hello from two\")\n",
    "    return decorator_fn\n",
    " \n",
    " \n",
    "@add_decorator_one\n",
    "@add_decorator_two\n",
    "def add(x, y):\n",
    "    print(x + y)"
   ]
  },
  {
   "cell_type": "code",
   "execution_count": 11,
   "metadata": {},
   "outputs": [
    {
     "name": "stdout",
     "output_type": "stream",
     "text": [
      "6\n",
      "Hello from two\n",
      "Hello from one\n"
     ]
    }
   ],
   "source": [
    "add(3,3)"
   ]
  },
  {
   "cell_type": "markdown",
   "metadata": {},
   "source": [
    "# Few ready-made decorators"
   ]
  },
  {
   "cell_type": "code",
   "execution_count": 12,
   "metadata": {},
   "outputs": [],
   "source": [
    "class A(object):\n",
    "    def foo(self, x):\n",
    "        print(\"foo - %s\" % x)\n",
    " \n",
    "    @staticmethod\n",
    "    def static_foo(x):\n",
    "        print(\"static foo - %s\" % x)"
   ]
  },
  {
   "cell_type": "code",
   "execution_count": 13,
   "metadata": {},
   "outputs": [
    {
     "ename": "TypeError",
     "evalue": "unbound method foo() must be called with A instance as first argument (got int instance instead)",
     "output_type": "error",
     "traceback": [
      "\u001b[0;31m---------------------------------------------------------------------------\u001b[0m",
      "\u001b[0;31mTypeError\u001b[0m                                 Traceback (most recent call last)",
      "\u001b[0;32m<ipython-input-13-e6b10288c154>\u001b[0m in \u001b[0;36m<module>\u001b[0;34m()\u001b[0m\n\u001b[0;32m----> 1\u001b[0;31m \u001b[0mA\u001b[0m\u001b[0;34m.\u001b[0m\u001b[0mfoo\u001b[0m\u001b[0;34m(\u001b[0m\u001b[0;36m1\u001b[0m\u001b[0;34m)\u001b[0m\u001b[0;34m\u001b[0m\u001b[0m\n\u001b[0m",
      "\u001b[0;31mTypeError\u001b[0m: unbound method foo() must be called with A instance as first argument (got int instance instead)"
     ]
    }
   ],
   "source": [
    "A.foo(1)"
   ]
  },
  {
   "cell_type": "code",
   "execution_count": 14,
   "metadata": {},
   "outputs": [
    {
     "name": "stdout",
     "output_type": "stream",
     "text": [
      "static foo - 1\n"
     ]
    }
   ],
   "source": [
    "A.static_foo(1)"
   ]
  },
  {
   "cell_type": "code",
   "execution_count": null,
   "metadata": {},
   "outputs": [],
   "source": []
  }
 ],
 "metadata": {
  "kernelspec": {
   "display_name": "Python 2",
   "language": "python",
   "name": "python2"
  },
  "language_info": {
   "codemirror_mode": {
    "name": "ipython",
    "version": 2
   },
   "file_extension": ".py",
   "mimetype": "text/x-python",
   "name": "python",
   "nbconvert_exporter": "python",
   "pygments_lexer": "ipython2",
   "version": "2.7.15"
  }
 },
 "nbformat": 4,
 "nbformat_minor": 2
}
