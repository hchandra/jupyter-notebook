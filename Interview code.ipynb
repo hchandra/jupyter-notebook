{
 "cells": [
  {
   "cell_type": "code",
   "execution_count": 4,
   "metadata": {},
   "outputs": [
    {
     "name": "stdout",
     "output_type": "stream",
     "text": [
      "[10, 'a']\n",
      "list1 = [10, 'a']\n",
      "list2 = [123]\n",
      "list3 = [10, 'a']\n"
     ]
    }
   ],
   "source": [
    "def extendList(val, list=[]):\n",
    "    list.append(val)\n",
    "    return list\n",
    "\n",
    "list1 = extendList(10)\n",
    "print(list1)\n",
    "list2 = extendList(123,[])\n",
    "list3 = extendList('a')\n",
    "print(list1)\n",
    "print \"list1 = %s\" % list1\n",
    "print \"list2 = %s\" % list2\n",
    "print \"list3 = %s\" % list3"
   ]
  },
  {
   "cell_type": "code",
   "execution_count": 7,
   "metadata": {},
   "outputs": [
    {
     "name": "stdout",
     "output_type": "stream",
     "text": [
      "list1 = [10]\n",
      "list2 = [123]\n",
      "list3 = ['a']\n"
     ]
    }
   ],
   "source": [
    "def extendList(val, list=None):\n",
    "  if list is None:\n",
    "    list = []\n",
    "  list.append(val)\n",
    "  return list\n",
    "\n",
    "list1 = extendList(10)\n",
    "\n",
    "list2 = extendList(123,[])\n",
    "list3 = extendList('a')\n",
    "\n",
    "print \"list1 = %s\" % list1\n",
    "print \"list2 = %s\" % list2\n",
    "print \"list3 = %s\" % list3"
   ]
  },
  {
   "cell_type": "code",
   "execution_count": 5,
   "metadata": {},
   "outputs": [
    {
     "name": "stdout",
     "output_type": "stream",
     "text": [
      "[6, 6, 6, 6]\n"
     ]
    }
   ],
   "source": [
    "def multipliers():\n",
    "  return [lambda x : i * x for i in range(4)]\n",
    "    \n",
    "print [m(2) for m in multipliers()]\n"
   ]
  }
 ],
 "metadata": {
  "kernelspec": {
   "display_name": "Python 2",
   "language": "python",
   "name": "python2"
  },
  "language_info": {
   "codemirror_mode": {
    "name": "ipython",
    "version": 2
   },
   "file_extension": ".py",
   "mimetype": "text/x-python",
   "name": "python",
   "nbconvert_exporter": "python",
   "pygments_lexer": "ipython2",
   "version": "2.7.15"
  }
 },
 "nbformat": 4,
 "nbformat_minor": 2
}
