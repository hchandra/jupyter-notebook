{
 "cells": [
  {
   "cell_type": "code",
   "execution_count": 6,
   "metadata": {},
   "outputs": [
    {
     "name": "stdout",
     "output_type": "stream",
     "text": [
      "procs -----------memory---------- ---swap-- -----io---- -system-- ------cpu-----\n",
      " r  b   swpd   free   buff  cache   si   so    bi    bo   in   cs us sy id wa st\n",
      " 6  0 312320 652436      0 319104   19   23    39    28  104  116  0  0 100  0  0\n",
      " 0  0 312320 652436      0 319104    0    0     0    31  170  237  0  0 100  0  0\n",
      " 0  0 312320 652436      0 319104    0    0     0     0  180  240  0  0 100  0  0\n",
      " 1  0 312320 652436      0 319104    0    0     0     0  183  246  0  0 100  0  0\n",
      " 0  0 312320 652436      0 319104    0    0     0     2  176  241  0  0 100  0  0\n"
     ]
    }
   ],
   "source": [
    "!vmstat 5 5"
   ]
  }
 ],
 "metadata": {
  "kernelspec": {
   "display_name": "Python 2",
   "language": "python",
   "name": "python2"
  },
  "language_info": {
   "codemirror_mode": {
    "name": "ipython",
    "version": 2
   },
   "file_extension": ".py",
   "mimetype": "text/x-python",
   "name": "python",
   "nbconvert_exporter": "python",
   "pygments_lexer": "ipython2",
   "version": "2.7.15"
  }
 },
 "nbformat": 4,
 "nbformat_minor": 2
}
