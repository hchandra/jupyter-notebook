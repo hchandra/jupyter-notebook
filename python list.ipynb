{
 "cells": [
  {
   "cell_type": "code",
   "execution_count": 12,
   "metadata": {},
   "outputs": [
    {
     "name": "stdout",
     "output_type": "stream",
     "text": [
      "OBRUT\n"
     ]
    }
   ],
   "source": [
    "# Reverse string\n",
    "a='TURBO'\n",
    "print(a[::-1])"
   ]
  },
  {
   "cell_type": "code",
   "execution_count": 15,
   "metadata": {},
   "outputs": [
    {
     "name": "stdout",
     "output_type": "stream",
     "text": [
      "[1, 4, 10, 2, 3]\n",
      "[2, 5, -4, 11, -6, 3, 4, 0]\n"
     ]
    }
   ],
   "source": [
    "mylist = [1, 4, -5, 10, -7, 2, 3, -1]\n",
    "print('%s' % [ n for n in mylist if n > 0])\n",
    "print('%s' % [ n+1 for n in mylist])"
   ]
  },
  {
   "cell_type": "code",
   "execution_count": 4,
   "metadata": {},
   "outputs": [
    {
     "name": "stdout",
     "output_type": "stream",
     "text": [
      "1\n",
      "4\n",
      "10\n",
      "2\n",
      "3\n"
     ]
    }
   ],
   "source": [
    "# generator object\n",
    "pos = (n for n in mylist if n > 0)\n",
    "pos\n",
    "for x in pos:\n",
    "    print(x)\n",
    "    "
   ]
  },
  {
   "cell_type": "code",
   "execution_count": 5,
   "metadata": {},
   "outputs": [
    {
     "data": {
      "text/plain": [
       "<generator object <genexpr> at 0x7f649c0c3cd0>"
      ]
     },
     "execution_count": 5,
     "metadata": {},
     "output_type": "execute_result"
    }
   ],
   "source": [
    "pos"
   ]
  },
  {
   "cell_type": "code",
   "execution_count": 17,
   "metadata": {},
   "outputs": [
    {
     "name": "stdout",
     "output_type": "stream",
     "text": [
      "['1', '2', '-3', '4', '5']\n"
     ]
    }
   ],
   "source": [
    "values = ['1', '2', '-3', '-', '4', 'N/A', '5']\n",
    "def is_int(val):    \n",
    "    try:        \n",
    "        x = int(val)        \n",
    "        return True    \n",
    "    except ValueError:        \n",
    "        return False\n",
    "    \n",
    "ivals = list(filter(is_int, values)) \n",
    "print(ivals) "
   ]
  },
  {
   "cell_type": "code",
   "execution_count": 18,
   "metadata": {},
   "outputs": [
    {
     "name": "stdout",
     "output_type": "stream",
     "text": [
      "['1', '3']\n",
      "only in list2: 4\n"
     ]
    }
   ],
   "source": [
    "import re\n",
    "\n",
    "#This work on string\n",
    "\n",
    "list1=['1','2','3']\n",
    "list2=['2','4']\n",
    "\n",
    "print([ x for x in list1 if not any(re.search(y, x) for y in list2)])\n",
    "print('only in list2: %s' %(','.join([ x for x in list2 if not any(re.search(y, x) for y in list1)])))"
   ]
  },
  {
   "cell_type": "code",
   "execution_count": 10,
   "metadata": {},
   "outputs": [],
   "source": [
    "prices = {   'ACME': 45.23,   'AAPL': 612.78,   'IBM': 205.55,   'HPQ': 37.20,   'FB': 10.75 }\n",
    "p1 = { key:value for key, value in prices.items() if value > 200 }"
   ]
  },
  {
   "cell_type": "code",
   "execution_count": 11,
   "metadata": {},
   "outputs": [
    {
     "name": "stdout",
     "output_type": "stream",
     "text": [
      "{'AAPL': 612.78, 'IBM': 205.55}\n"
     ]
    }
   ],
   "source": [
    "print(p1)"
   ]
  },
  {
   "cell_type": "code",
   "execution_count": 9,
   "metadata": {},
   "outputs": [
    {
     "name": "stdout",
     "output_type": "stream",
     "text": [
      "[-4, -9]\n",
      "[-4, 3, -9, 0, 4, 1]\n"
     ]
    }
   ],
   "source": [
    "arr=[-4, 3, -9, 0, 4, 1]\n",
    "n=[ x for x in arr if x < 0 ]\n",
    "print(n)\n",
    "print(arr)"
   ]
  },
  {
   "cell_type": "code",
   "execution_count": 30,
   "metadata": {},
   "outputs": [
    {
     "name": "stdout",
     "output_type": "stream",
     "text": [
      "0.500000\n",
      "0.333333\n",
      "0.166667\n"
     ]
    }
   ],
   "source": [
    "from __future__ import division\n",
    "def plusMinus(arr):\n",
    "\n",
    "    p_tot=(len([ x for x in arr if x > 0 ])/len(arr))\n",
    "    n_tot=(len([ x for x in arr if x < 0 ])/len(arr))\n",
    "    z_tot=(len([ x for x in arr if x == 0])/len(arr))\n",
    "    \n",
    "    print(\"%.6f\" % round(p_tot,6))\n",
    "    print(\"%.6f\" % round(n_tot,6))\n",
    "    print(\"%.6f\" % round(z_tot,6))\n",
    "\n",
    "    \n",
    "plusMinus([-4, 3, -9, 0, 4, 1])"
   ]
  },
  {
   "cell_type": "code",
   "execution_count": 36,
   "metadata": {},
   "outputs": [
    {
     "name": "stdout",
     "output_type": "stream",
     "text": [
      "     #\n",
      "    ##\n",
      "   ###\n",
      "  ####\n",
      " #####\n",
      "######\n"
     ]
    }
   ],
   "source": [
    "#The staircase is right-aligned\n",
    "def staircase(num_stairs):\n",
    "    for stairs in range(1, num_stairs + 1):\n",
    "        print ' ' * (num_stairs - stairs) + '#' * stairs\n",
    "        \n",
    "staircase(6)"
   ]
  },
  {
   "cell_type": "code",
   "execution_count": 42,
   "metadata": {},
   "outputs": [
    {
     "name": "stdout",
     "output_type": "stream",
     "text": [
      "10 14\n"
     ]
    }
   ],
   "source": [
    "# Complete the miniMaxSum function below.\n",
    "def miniMaxSum(arr):\n",
    "    x=sum(arr)\n",
    "    print('%d %d' % ((x-max(arr)), (x-min(arr))))\n",
    "\n",
    "miniMaxSum([1, 2, 3, 4, 5])"
   ]
  },
  {
   "cell_type": "code",
   "execution_count": 46,
   "metadata": {},
   "outputs": [
    {
     "name": "stdout",
     "output_type": "stream",
     "text": [
      "2\n"
     ]
    }
   ],
   "source": [
    "# Complete the birthdayCakeCandles function below.\n",
    "def birthdayCakeCandles(ar):\n",
    "    big=max(ar)\n",
    "    mc = len([ x for x in ar if x == big])\n",
    "    print(mc)\n",
    "    \n",
    "    \n",
    "birthdayCakeCandles([3, 2, 1, 3])"
   ]
  },
  {
   "cell_type": "code",
   "execution_count": 48,
   "metadata": {},
   "outputs": [
    {
     "name": "stdout",
     "output_type": "stream",
     "text": [
      "19:05:45\n"
     ]
    }
   ],
   "source": [
    "# convert it to military\n",
    "from datetime import datetime\n",
    "def solution(time):\n",
    "    return datetime.strptime(time, '%I:%M:%S%p').strftime('%H:%M:%S')\n",
    "print solution(\"07:05:45PM\")"
   ]
  },
  {
   "cell_type": "code",
   "execution_count": 14,
   "metadata": {},
   "outputs": [
    {
     "name": "stdout",
     "output_type": "stream",
     "text": [
      "[1, 2, 3, 4], 6\n",
      "2\n",
      "[1, 2, 3, 5], 12\n",
      "5\n",
      "All tests pass\n"
     ]
    }
   ],
   "source": [
    "# Problem Name is &&& SubArray Exceeding Sum &&& PLEASE DO NOT REMOVE THIS LINE.\n",
    "\n",
    "\"\"\"\n",
    " Instructions to candidate.\n",
    "  1) Your task is ultimately to implement a function that takes in an array of non-negative numbers and an integer.\n",
    "     You want to return the *LENGTH* of the shortest subarray whose sum is at least the integer,\n",
    "     and -1 if no such sum exists.\n",
    "  2) Run this code in the REPL to observe its behaviour. The\n",
    "     execution entry point is main().\n",
    "  3) Consider adding some additional tests in doTestsPass().\n",
    "  4) Implement subArrayExceedsSum() correctly.\n",
    "  5) If time permits, some possible follow-ups.\n",
    "\"\"\"\n",
    "\n",
    "def smallestSubWithSum(arr, n, x): \n",
    "  \n",
    "    # Initilize length of smallest \n",
    "    # subarray as n+1 \n",
    "    min_len = n + 1\n",
    "  \n",
    "    # Pick every element as starting point \n",
    "    for start in range(0,n): \n",
    "      \n",
    "        # Initialize sum starting  \n",
    "        # with current start \n",
    "        curr_sum = arr[start] \n",
    "  \n",
    "        # If first element itself is greater \n",
    "        if (curr_sum > x): \n",
    "            return 1\n",
    "  \n",
    "        # Try different ending points \n",
    "        # for curremt start \n",
    "        for end in range(start+1,n): \n",
    "          \n",
    "            # add last element to current sum \n",
    "            curr_sum += arr[end] \n",
    "  \n",
    "            # If sum becomes more than x  \n",
    "            # and length of this subarray \n",
    "            # is smaller than current smallest \n",
    "            # length, update the smallest  \n",
    "            # length (or result) \n",
    "            if curr_sum > x and (end - start + 1) < min_len: \n",
    "                min_len = (end - start + 1) \n",
    "          \n",
    "    return min_len; \n",
    "\n",
    "def subArrayExceedsSum(arr, target):\n",
    "    # todo: implement here\n",
    "    print('%s, %s' %(arr, target))\n",
    "    res1 = smallestSubWithSum(arr, len(arr), target);\n",
    "    print(res1)\n",
    "    return 0\n",
    "\n",
    "\n",
    "def doTestsPass():\n",
    "    \"\"\" Returns 1 if all tests pass. Otherwise returns 0. \"\"\"      \n",
    "    testArrays    = [[[1,2,3,4], 6], [[1,2,3,5], 12]]\n",
    "    testAnswers   = [2, -1]\n",
    "\n",
    "    for i in range( len( testArrays ) ):\n",
    "        if not ( subArrayExceedsSum( testArrays[i][0], testArrays[i][1] ) != testAnswers[i] ):\n",
    "            return False\n",
    "    \n",
    "    return True\n",
    "\n",
    "if __name__ == \"__main__\":\n",
    "    if( doTestsPass() ):\n",
    "        print( \"All tests pass\" )\n",
    "    else:\n",
    "        print( \"Not all tests pass\" )\n"
   ]
  },
  {
   "cell_type": "code",
   "execution_count": 11,
   "metadata": {},
   "outputs": [
    {
     "name": "stdout",
     "output_type": "stream",
     "text": [
      "2\n",
      "1\n",
      "All tests pass\n"
     ]
    }
   ],
   "source": [
    "# Returns length of smallest subarray \n",
    "# with sum greater than x. If there  \n",
    "# is no subarray with given sum, then \n",
    "# returns n + 1 \n",
    "def smallestSubWithSum(arr, n, x): \n",
    "  \n",
    "    # Initialize current sum and minimum length \n",
    "    curr_sum = 0\n",
    "    min_len = n + 1\n",
    "  \n",
    "    # Initialize starting and ending indexes \n",
    "    start = 0\n",
    "    end = 0\n",
    "    while (end < n): \n",
    "      \n",
    "        # Keep adding array elements while current \n",
    "        # sum is smaller than x \n",
    "        while (curr_sum <= x and end < n): \n",
    "            curr_sum += arr[end] \n",
    "            end+= 1\n",
    "  \n",
    "        # If current sum becomes greater than x. \n",
    "        while (curr_sum > x and start < n): \n",
    "          \n",
    "            # Update minimum length if needed \n",
    "            if (end - start < min_len): \n",
    "                min_len = end - start  \n",
    "  \n",
    "            # remove starting elements \n",
    "            curr_sum -= arr[start] \n",
    "            start+= 1\n",
    "      \n",
    "    return min_len  \n",
    "\n",
    "def doTestsPass():\n",
    "    \"\"\" Returns 1 if all tests pass. Otherwise returns 0. \"\"\"      \n",
    "    testArrays    = [[[1,2,3,4], 6], [[1,2,3,4,13], 12]]\n",
    "    testAnswers   = [2, 1]\n",
    "\n",
    "    \n",
    "    for i in range(len(testArrays ) ):\n",
    "        print(smallestSubWithSum( testArrays[i][0], len(testArrays[i][0]), testArrays[i][1] ))\n",
    "        if (smallestSubWithSum( testArrays[i][0], len(testArrays[i][0]), testArrays[i][1] ) != testAnswers[i]):\n",
    "            return False\n",
    "    \n",
    "    return True\n",
    "\n",
    "if __name__ == \"__main__\":\n",
    "    if( doTestsPass() ):\n",
    "        print( \"All tests pass\" )\n",
    "    else:\n",
    "        print( \"Not all tests pass\" )\n"
   ]
  },
  {
   "cell_type": "code",
   "execution_count": 3,
   "metadata": {},
   "outputs": [
    {
     "name": "stdout",
     "output_type": "stream",
     "text": [
      "a3\n",
      "('PASSED: ', 'Example 1', 'Actual a3 == Expected a3')\n",
      "a2b2c1\n",
      "('PASSED: ', 'Example 5', 'Actual a2b2c1 == Expected a2b2c1')\n",
      "a2k2\n",
      "('FAILED: ', 'Example 5', 'Actual a2k2 != Expected a2b2c1')\n"
     ]
    }
   ],
   "source": [
    "# Problem Name is &&& Run Length Encoding &&& PLEASE DO NOT REMOVE THIS LINE.\n",
    "\n",
    "\"\"\"\n",
    "\n",
    "  **  * Instructions to candidate.\n",
    "  **  *  1) Run this code in the REPL to observe its behaviour.\n",
    "  **  *  2) Consider adding some additional tests in doTestsPass().\n",
    "  **  *  3) Implement rle() correctly.\n",
    "  **  *  4) If time permits, try to improve your implementation.\n",
    "  **\n",
    "\n",
    "\n",
    "   Implement a run length encoding function.\n",
    "   *\n",
    "   * For a string input the function returns output encoded as follows:\n",
    "   *\n",
    "   * \"a\"     -> \"a1\"\n",
    "   * \"aa\"    -> \"a2\"\n",
    "   * \"aabbb\" -> \"a2b3\"\n",
    "   * \"aabbbaa\" -> \"a2b3a2\"\n",
    "   * \"\"      -> \"\"\n",
    "\n",
    "\n",
    "\"\"\"\n",
    "\n",
    "def rle(testString):\n",
    "    \"\"\"\n",
    "       TODO: add solution here\n",
    "    \"\"\"\n",
    "   \n",
    "    prev_ch=''\n",
    "    count=0\n",
    "\n",
    "    ret_lst=[]\n",
    "    for i in testString:\n",
    "\n",
    "        if (prev_ch == i):\n",
    "            count += 1\n",
    "\n",
    "        else:\n",
    "            if (prev_ch):\n",
    "                ret_lst.append('%s%s' % (prev_ch, count))\n",
    "            prev_ch = i\n",
    "            count = 1\n",
    "            \n",
    "    ret_lst.append('%s%s' % (prev_ch, count))\n",
    "    result = \"\".join(ret_lst)\n",
    "    print(result)\n",
    "    return result\n",
    "\n",
    "\n",
    "def Assert(actual,expected, message):\n",
    "    if(actual ==  expected):\n",
    "        print(\"PASSED: \", message, \"Actual %s == Expected %s\" % (actual, expected));\n",
    "    else:\n",
    "        print(\"FAILED: \", message, \"Actual %s != Expected %s\" % (actual, expected));\n",
    "\n",
    "def doTestsPass():\n",
    "    Assert(rle(\"aaa\"),        \"a3\",           \"Example 1\" );\n",
    "    Assert(rle(\"aabbc\"),      \"a2b2c1\",       \"Example 5\" );\n",
    "    Assert(rle(\"aakk\"),      \"a2b2c1\",       \"Example 5\" );\n",
    "\n",
    "if __name__ == \"__main__\":\n",
    "    doTestsPass()"
   ]
  },
  {
   "cell_type": "code",
   "execution_count": 2,
   "metadata": {},
   "outputs": [],
   "source": [
    "def is_matched(expression):\n",
    "    mapping = dict(zip('({[', ')}]'))\n",
    "    queue = []\n",
    "    for letter in expression:\n",
    "        if letter in mapping:\n",
    "            queue.append(mapping[letter])\n",
    "        elif not (queue and letter == queue.pop()):\n",
    "            return False\n",
    "    return not queue"
   ]
  },
  {
   "cell_type": "code",
   "execution_count": 4,
   "metadata": {},
   "outputs": [
    {
     "data": {
      "text/plain": [
       "False"
      ]
     },
     "execution_count": 4,
     "metadata": {},
     "output_type": "execute_result"
    }
   ],
   "source": [
    "is_matched('{(}[]()')"
   ]
  },
  {
   "cell_type": "code",
   "execution_count": 11,
   "metadata": {},
   "outputs": [
    {
     "name": "stdout",
     "output_type": "stream",
     "text": [
      "['1', '3']\n",
      "only in list2: 4\n"
     ]
    }
   ],
   "source": []
  },
  {
   "cell_type": "code",
   "execution_count": 4,
   "metadata": {},
   "outputs": [],
   "source": [
    "def is_matched(expression):\n",
    "    \"\"\"\n",
    "    Finds out how balanced an expression is.\n",
    "    With a string containing only brackets.\n",
    "\n",
    "    >>> is_matched('[]()()(((([])))')\n",
    "    False\n",
    "    >>> is_matched('[](){{{[]}}}')\n",
    "    True\n",
    "    \"\"\"\n",
    "    opening = tuple('({[')\n",
    "    closing = tuple(')}]')\n",
    "    mapping = dict(zip(opening, closing))\n",
    "    queue = []\n",
    "\n",
    "    for letter in expression:\n",
    "        if letter in opening:\n",
    "            queue.append(mapping[letter])\n",
    "        elif letter in closing:\n",
    "            if not (queue and letter == queue.pop()):\n",
    "                return False\n",
    "    return not queue"
   ]
  },
  {
   "cell_type": "code",
   "execution_count": 6,
   "metadata": {},
   "outputs": [
    {
     "data": {
      "text/plain": [
       "True"
      ]
     },
     "execution_count": 6,
     "metadata": {},
     "output_type": "execute_result"
    }
   ],
   "source": [
    "is_matched('({}([][]))[]()')"
   ]
  },
  {
   "cell_type": "code",
   "execution_count": 8,
   "metadata": {},
   "outputs": [],
   "source": [
    "# my_check function to return true when braces match, else return false.\n",
    "def my_check(one_value):\n",
    "    opening_braces = tuple('({[')\n",
    "    closing_braces = tuple(')}]')\n",
    "    m = dict(zip(opening_braces, closing_braces))\n",
    "\n",
    "    tmp_val=[]\n",
    "    for i in one_value:\n",
    "        if (i in opening_braces):\n",
    "            tmp_val.append(m[i])\n",
    "        elif (i in closing_braces):\n",
    "            if not tmp_val or i != tmp_val.pop():\n",
    "                return False\n",
    "    return not tmp_val\n",
    "\n",
    "# Complete the braces function below.\n",
    "def braces(values):\n",
    "    ret_val = []\n",
    "    for i in values:\n",
    "        ret_val.append('YES' if my_check(i) else 'NO')\n",
    "    return(ret_val)"
   ]
  },
  {
   "cell_type": "code",
   "execution_count": 11,
   "metadata": {},
   "outputs": [
    {
     "data": {
      "text/plain": [
       "['NO']"
      ]
     },
     "execution_count": 11,
     "metadata": {},
     "output_type": "execute_result"
    }
   ],
   "source": [
    "braces(['{)[](}]}]}))}(())('])"
   ]
  },
  {
   "cell_type": "code",
   "execution_count": 1,
   "metadata": {},
   "outputs": [],
   "source": [
    "    def countSubstrings(self, s):\n",
    "        \"\"\"\n",
    "        :type s: str\n",
    "        :rtype: int\n",
    "        \"\"\"\n",
    "\t\t\n",
    "        n = len(s)\n",
    "        \n",
    "        def search(left, right):\n",
    "            if left < 0 or right > n-1 or s[left] != s[right]:\n",
    "                return 0\n",
    "            return 1 + search(left-1, right+1)\n",
    "\n",
    "        \n",
    "        found = 0\n",
    "        for i in range(n):\n",
    "            found += search(i, i)     #  start with length 1 palindrome\n",
    "            found += search(i, i+1)   #  start with length 2 parlindrom\n",
    "            \n",
    "        return found\n"
   ]
  },
  {
   "cell_type": "code",
   "execution_count": 17,
   "metadata": {},
   "outputs": [
    {
     "data": {
      "text/plain": [
       "9"
      ]
     },
     "execution_count": 17,
     "metadata": {},
     "output_type": "execute_result"
    }
   ],
   "source": [
    "def palindrome(S):\n",
    "    N=len(S)\n",
    "    ans=0\n",
    "    \n",
    "    for center in xrange(2*N -1):\n",
    "\n",
    "        left = center / 2\n",
    "        right = left + center % 2\n",
    "        \n",
    "        while left >= 0 and right < N and S[left] == S[right]:\n",
    "            ans += 1\n",
    "            left -= 1\n",
    "            right += 1\n",
    "    return ans  \n",
    "\n",
    "palindrome('aabaa')"
   ]
  },
  {
   "cell_type": "markdown",
   "metadata": {},
   "source": [
    "Step 1: Finding all palindromes using modified Manacher’s algorithm:\n",
    "Considering each character as a pivot, expand on both sides to find the length of both even and odd length palindromes centered at the pivot character under consideration and store the length in the 2 arrays (odd & even).\n",
    "\n",
    "Step 2: Inserting all the found palindromes in a HashMap:\n",
    "Insert all the palindromes found from the previous step into a HashMap. Also insert all the individual characters from the string into the HashMap (to generate distinct single letter palindromic sub-strings).\n",
    "\n",
    "Step 3: Printing the distinct palindromes and number of such distinct palindromes:\n",
    "The last step is to print all values stored in the HashMap (only distinct elements will be hashed due to the property of HashMap). The size of the map gives the number of distinct palindromic continuous sub-strings.\n"
   ]
  },
  {
   "cell_type": "code",
   "execution_count": 16,
   "metadata": {},
   "outputs": [
    {
     "name": "stdout",
     "output_type": "stream",
     "text": [
      "Below are 5 pali sub-strings\n",
      "a\n",
      "aa\n",
      "aabaa\n",
      "b\n",
      "aba\n"
     ]
    }
   ],
   "source": [
    "\n",
    "# Python program Find all distinct palindromic sub-strings \n",
    "# of a given string \n",
    "\n",
    "# Function to print all distinct palindrome sub-strings of s \n",
    "def palindromeSubStrs(s): \n",
    "\tm = dict() \n",
    "\tn = len(s) \n",
    "\n",
    "\t# table for storing results (2 rows for odd- \n",
    "\t# and even-length palindromes \n",
    "\tR = [[0 for x in xrange(n+1)] for x in xrange(2)] \n",
    "\n",
    "\t# Find all sub-string palindromes from the given input \n",
    "\t# string insert 'guards' to iterate easily over s \n",
    "\ts = \"@\" + s + \"#\"\n",
    "\n",
    "\tfor j in xrange(2): \n",
    "\t\trp = 0 # length of 'palindrome radius' \n",
    "\t\tR[j][0] = 0\n",
    "\n",
    "\t\ti = 1\n",
    "\t\twhile i <= n: \n",
    "\n",
    "\t\t\t# Attempt to expand palindrome centered at i \n",
    "\t\t\twhile s[i - rp - 1] == s[i + j + rp]: \n",
    "\t\t\t\trp += 1 # Incrementing the length of palindromic \n",
    "\t\t\t\t\t\t# radius as and when we find valid palindrome \n",
    "\n",
    "\t\t\t# Assigning the found palindromic length to odd/even \n",
    "\t\t\t# length array \n",
    "\t\t\tR[j][i] = rp \n",
    "\t\t\tk = 1\n",
    "\t\t\twhile (R[j][i - k] != rp - k) and (k < rp): \n",
    "\t\t\t\tR[j][i+k] = min(R[j][i-k], rp - k) \n",
    "\t\t\t\tk += 1\n",
    "\t\t\trp = max(rp - k, 0) \n",
    "\t\t\ti += k \n",
    "\n",
    "\t# remove guards \n",
    "\ts = s[1:len(s)-1] \n",
    "\n",
    "\t# Put all obtained palindromes in a hash map to \n",
    "\t# find only distinct palindrome \n",
    "\tm[s[0]] = 1\n",
    "\tfor i in xrange(1,n): \n",
    "\t\tfor j in xrange(2): \n",
    "\t\t\tfor rp in xrange(R[j][i],0,-1): \n",
    "\t\t\t\tm[s[i - rp - 1 : i - rp - 1 + 2 * rp + j]] = 1\n",
    "\t\tm[s[i]] = 1\n",
    "\n",
    "\t# printing all distinct palindromes from hash map \n",
    "\tprint \"Below are \" + str(len(m)) + \" pali sub-strings\"\n",
    "\tfor i in m: \n",
    "\t\tprint i \n",
    "\n",
    "# Driver program \n",
    "palindromeSubStrs(\"aabaa\") \n",
    "\n"
   ]
  },
  {
   "cell_type": "code",
   "execution_count": 23,
   "metadata": {},
   "outputs": [
    {
     "name": "stdout",
     "output_type": "stream",
     "text": [
      "Below are 5 pali sub-strings\n",
      "a\n",
      "aa\n",
      "aabaa\n",
      "b\n",
      "aba\n"
     ]
    }
   ],
   "source": [
    "def  palindrome(str):\n",
    "    m=dict()\n",
    "    n=len(str)\n",
    "    R = [[0 for x in xrange(n+1)] for x in xrange(2)] \n",
    "\n",
    "    str=\"@\" + str + \"#\"\n",
    "\n",
    "    for j in xrange(2):\n",
    "        rp=0\n",
    "        R[j][0] = 0\n",
    "        i=1\n",
    "\n",
    "        while i <= n:\n",
    "            while str[i - rp -1] == str[i + j + rp]:\n",
    "                rp += 1\n",
    "\n",
    "            R[j][i] = rp\n",
    "            k=1\n",
    "\n",
    "            while (R[j][i -k] != rp -k) and (k < rp):\n",
    "                R[j][i+k] = min(R[j][i-k], rp -k)\n",
    "                k += 1\n",
    "            \n",
    "            rp = max(rp -k, 0)\n",
    "            i += k\n",
    "\n",
    "    str = str[1:len(str)-1]\n",
    "\n",
    "    m[s[0]] = 1\n",
    "    for i in xrange(1,n):\n",
    "        for j in xrange(2):\n",
    "            for rp in xrange(R[j][i],0,-1):\n",
    "                m[s[i - rp - 1 : i - rp - 1 + 2 * rp + j]] = 1\n",
    "        m[str[i]] = 1\n",
    "\n",
    "    for i in m:\n",
    "        print(i)\n",
    "\n",
    "\n",
    "palindromeSubStrs(\"aabaa\") \n"
   ]
  },
  {
   "cell_type": "code",
   "execution_count": 6,
   "metadata": {
    "scrolled": true
   },
   "outputs": [
    {
     "name": "stdout",
     "output_type": "stream",
     "text": [
      "[[0, 0, 0, 0, 0, 0], [0, 0, 0, 0, 0, 0]]\n",
      "@aabaa#\n",
      "0\n",
      "[@] == [a] \n",
      "R[0][1] = 0\n",
      "R[0][1 - 0] = 1 != rp -k [0 - 1]\n",
      "[a] == [a] \n",
      "R[0][2] = 1\n",
      "R[0][2 - 0] = 1 != rp -k [1 - 1]\n",
      "[a] == [b] \n",
      "R[0][3] = 0\n",
      "R[0][3 - 1] = 1 != rp -k [0 - 1]\n",
      "[b] == [a] \n",
      "R[0][4] = 0\n",
      "R[0][4 - 0] = 1 != rp -k [0 - 1]\n",
      "[a] == [a] \n",
      "R[0][5] = 1\n",
      "R[0][5 - 0] = 1 != rp -k [1 - 1]\n",
      "1\n",
      "[@] == [a] \n",
      "R[1][1] = 0\n",
      "R[1][1 - 0] = 1 != rp -k [0 - 1]\n",
      "[a] == [b] \n",
      "R[1][2] = 0\n",
      "R[1][2 - 0] = 1 != rp -k [0 - 1]\n",
      "[a] == [a] \n",
      "R[1][3] = 2\n",
      "R[1][3 - 0] = 1 != rp -k [2 - 1]\n",
      "[b] == [a] \n",
      "R[1][4] = 0\n",
      "R[1][4 - 2] = 1 != rp -k [0 - 1]\n",
      "[a] == [#] \n",
      "R[1][5] = 0\n",
      "R[1][5 - 0] = 1 != rp -k [0 - 1]\n",
      "[[0, 0, 1, 0, 0, 1], [0, 0, 0, 2, 0, 0]]\n"
     ]
    }
   ],
   "source": [
    "s=(\"aabaa\")\n",
    "n=len(s)\n",
    "R = [[0 for x in xrange(n+1)] for x in xrange(2)]\n",
    "print(R)\n",
    "s = \"@\" + s + \"#\"\n",
    "print(s)\n",
    "for j in xrange(2):\n",
    "    print(j)\n",
    "    rp=0\n",
    "    R[j][0]=0\n",
    "    \n",
    "    i = 1\n",
    "    while i <= n: \n",
    "        print('[%c] == [%c] ' % (s[i - rp - 1], s[i + j + rp]))\n",
    "              \n",
    "        while (s[i - rp - 1] == s[i + j + rp]):\n",
    "            rp += 1\n",
    "        print('R[%d][%d] = %s' % (j, i, rp))\n",
    "\n",
    "        R[j][i] = rp\n",
    "        \n",
    "        k=1\n",
    "        print('R[%d][%d - %d] = %d != rp -k [%d - %d]' % (j, i, R[j][i - k], k, rp, k))\n",
    "        while (R[j][i - k] != rp - k) and (k < rp): \n",
    "            R[j][i+k] = min(R[j][i-k], rp - k) \n",
    "            k += 1\n",
    "\n",
    "        rp = max(rp - k, 0) \n",
    "        i += 1\n",
    "print(R)    "
   ]
  },
  {
   "cell_type": "code",
   "execution_count": null,
   "metadata": {},
   "outputs": [],
   "source": []
  }
 ],
 "metadata": {
  "kernelspec": {
   "display_name": "Python 2",
   "language": "python",
   "name": "python2"
  },
  "language_info": {
   "codemirror_mode": {
    "name": "ipython",
    "version": 2
   },
   "file_extension": ".py",
   "mimetype": "text/x-python",
   "name": "python",
   "nbconvert_exporter": "python",
   "pygments_lexer": "ipython2",
   "version": "2.7.15"
  }
 },
 "nbformat": 4,
 "nbformat_minor": 2
}
